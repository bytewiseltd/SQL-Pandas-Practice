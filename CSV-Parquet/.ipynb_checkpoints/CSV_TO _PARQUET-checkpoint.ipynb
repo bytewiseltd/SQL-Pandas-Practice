{
 "cells": [
  {
   "cell_type": "code",
   "execution_count": null,
   "id": "800b8c08",
   "metadata": {},
   "outputs": [],
   "source": [
    "!pip install fastparquet"
   ]
  },
  {
   "cell_type": "code",
   "execution_count": 5,
   "id": "8e977046",
   "metadata": {},
   "outputs": [
    {
     "name": "stdout",
     "output_type": "stream",
     "text": [
      "Collecting pyarrow\n",
      "  Downloading pyarrow-9.0.0-cp39-cp39-win_amd64.whl (19.6 MB)\n",
      "Requirement already satisfied: numpy>=1.16.6 in c:\\users\\think\\anaconda3\\lib\\site-packages (from pyarrow) (1.20.3)\n",
      "Installing collected packages: pyarrow\n",
      "Successfully installed pyarrow-9.0.0\n"
     ]
    }
   ],
   "source": [
    "!pip install pyarrow"
   ]
  },
  {
   "cell_type": "markdown",
   "id": "891114e8",
   "metadata": {},
   "source": [
    "# Importing libararies"
   ]
  },
  {
   "cell_type": "code",
   "execution_count": 1,
   "id": "5b2e94e5",
   "metadata": {},
   "outputs": [],
   "source": [
    "import pandas as pd"
   ]
  },
  {
   "cell_type": "markdown",
   "id": "f88d3156",
   "metadata": {},
   "source": [
    "# Reading CSV"
   ]
  },
  {
   "cell_type": "code",
   "execution_count": 3,
   "id": "452faee0",
   "metadata": {},
   "outputs": [],
   "source": [
    "df = pd.read_csv('input/Sodium_data.csv')"
   ]
  },
  {
   "cell_type": "markdown",
   "id": "e68b55c7",
   "metadata": {},
   "source": [
    "# Converting To Parquet"
   ]
  },
  {
   "cell_type": "code",
   "execution_count": 6,
   "id": "c9835e5b",
   "metadata": {},
   "outputs": [],
   "source": [
    "df.to_parquet('output/Sodium_data.parquet')"
   ]
  }
 ],
 "metadata": {
  "kernelspec": {
   "display_name": "Python 3 (ipykernel)",
   "language": "python",
   "name": "python3"
  },
  "language_info": {
   "codemirror_mode": {
    "name": "ipython",
    "version": 3
   },
   "file_extension": ".py",
   "mimetype": "text/x-python",
   "name": "python",
   "nbconvert_exporter": "python",
   "pygments_lexer": "ipython3",
   "version": "3.9.7"
  }
 },
 "nbformat": 4,
 "nbformat_minor": 5
}
